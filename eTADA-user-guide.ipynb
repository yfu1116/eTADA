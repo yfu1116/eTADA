{
 "cells": [
  {
   "cell_type": "markdown",
   "metadata": {
    "kernel": "SoS"
   },
   "source": [
    "# eTADA\n",
    "A statistical framework for mapping risk genes from *de novo* mutations in whole-genome sequencing studies\n",
    "\n",
    "## Introduction\n",
    "With the fast pace of technology revolution in the field of genomics, whole-exome sequencing (WES) and whole-genome sequencing (WGS) have become more and more affordable. We have seen rapid accumulation of these sequencing data from cohorts with different traits and diseases and are about to see even more in the near future. Now, the major challenge is what we could learn from these data. Specifically, **could we use mutation data to learn what types of mutations are relevant to disease eitiology and which genes are likely to be risk genes**. TADA-A is a statistical framework designed to answer these important questions using *de novo **SNV** mutations* (DNM), one type of mutations that spontaneously arise in an offspring and not present in its parents. The two main types of input data for TADA-A is DNM and functional/conservational annotation data. It works by integrating DNM information across different studies while accounting for technical variations that might affect observed DNM mutation rates among these studies. It first adjusts baseline mutation rates for each study and estimates the effect sizes of annotations using DNM data from all studies. Finally, it uses relevant annotations to predict the deleteriouss of each mutation and predict disease risk genes. \n",
    "\n",
    "\n",
    "\n",
    "eTADA is developed on the foundation of TADA-A. It estimates the mutation rates of study-specific *de novo* frameshift INDELs and integrated the weights of both SNVs and frameshift INDELs to increase the statistical power for risk gene discovery. Besides, its speed of parameter estimation is approximately three times faster than TADA-A's. This tool is freely available at https://github.com/yfu1116/eTADA. \n"
   ]
  },
  {
   "cell_type": "code",
   "execution_count": null,
   "metadata": {
    "kernel": "R",
    "scrolled": false
   },
   "outputs": [],
   "source": [
    "library(eTADA)\n",
    "options(scipen=20)"
   ]
  },
  {
   "cell_type": "markdown",
   "metadata": {
    "kernel": "R"
   },
   "source": [
    "# adjust mutation rates"
   ]
  },
  {
   "cell_type": "markdown",
   "metadata": {
    "kernel": "R"
   },
   "source": [
    "--mut_file\n",
    "\n",
    "A string representing a DNM bed file with three columns, separated by \"\\t\". Notice, here the mutation file does not need to have allele information.\n",
    "chr \\t start(0-based) \\t end(1-based)"
   ]
  },
  {
   "cell_type": "code",
   "execution_count": 6,
   "metadata": {
    "kernel": "Bash"
   },
   "outputs": [
    {
     "name": "stdout",
     "output_type": "stream",
     "text": [
      "chr12\t123187419\t123187420\n",
      "chr8\t22550355\t22550356\n"
     ]
    }
   ],
   "source": [
    "head -n 2 mut_file"
   ]
  },
  {
   "cell_type": "markdown",
   "metadata": {
    "kernel": "R"
   },
   "source": [
    "--window_file\n",
    "\n",
    "A window file that has several columns. Each row is a 50-bp window with coordinates information, uncalibrated baseline mutation rates, its associated gene name and other features that are used to adjust baseline mutation rates. A example window file is provided as `../MS_data/Example_windows_with_div_score.bed` and the first four rows are shown below. If you use your own window file,  the first 6 columns are required and the names of these columns should not be changed.  The rest of the columns are features that are used to adjust mutation rates so could be customized. "
   ]
  },
  {
   "cell_type": "code",
   "execution_count": 8,
   "metadata": {
    "kernel": "R",
    "scrolled": false
   },
   "outputs": [
    {
     "data": {
      "text/html": [
       "<table class=\"dataframe\">\n",
       "<caption>A data.table: 2 × 10</caption>\n",
       "<thead>\n",
       "\t<tr><th scope=col>chr</th><th scope=col>start</th><th scope=col>end</th><th scope=col>site_index</th><th scope=col>genename</th><th scope=col>mutrate</th><th scope=col>coding</th><th scope=col>promoter</th><th scope=col>GC_content</th><th scope=col>div_score</th></tr>\n",
       "\t<tr><th scope=col>&lt;chr&gt;</th><th scope=col>&lt;int&gt;</th><th scope=col>&lt;int&gt;</th><th scope=col>&lt;int&gt;</th><th scope=col>&lt;chr&gt;</th><th scope=col>&lt;dbl&gt;</th><th scope=col>&lt;int&gt;</th><th scope=col>&lt;int&gt;</th><th scope=col>&lt;dbl&gt;</th><th scope=col>&lt;dbl&gt;</th></tr>\n",
       "</thead>\n",
       "<tbody>\n",
       "\t<tr><td>chr1</td><td>68090</td><td>68140</td><td>1</td><td>OR4F5</td><td>7.29662e-07</td><td>0</td><td>1</td><td>0.38</td><td>0.07401378</td></tr>\n",
       "\t<tr><td>chr1</td><td>68140</td><td>68190</td><td>2</td><td>OR4F5</td><td>5.25763e-07</td><td>0</td><td>1</td><td>0.38</td><td>0.07401378</td></tr>\n",
       "</tbody>\n",
       "</table>\n"
      ],
      "text/latex": [
       "A data.table: 2 × 10\n",
       "\\begin{tabular}{llllllllll}\n",
       " chr & start & end & site\\_index & genename & mutrate & coding & promoter & GC\\_content & div\\_score\\\\\n",
       " <chr> & <int> & <int> & <int> & <chr> & <dbl> & <int> & <int> & <dbl> & <dbl>\\\\\n",
       "\\hline\n",
       "\t chr1 & 68090 & 68140 & 1 & OR4F5 & 7.29662e-07 & 0 & 1 & 0.38 & 0.07401378\\\\\n",
       "\t chr1 & 68140 & 68190 & 2 & OR4F5 & 5.25763e-07 & 0 & 1 & 0.38 & 0.07401378\\\\\n",
       "\\end{tabular}\n"
      ],
      "text/markdown": [
       "\n",
       "A data.table: 2 × 10\n",
       "\n",
       "| chr &lt;chr&gt; | start &lt;int&gt; | end &lt;int&gt; | site_index &lt;int&gt; | genename &lt;chr&gt; | mutrate &lt;dbl&gt; | coding &lt;int&gt; | promoter &lt;int&gt; | GC_content &lt;dbl&gt; | div_score &lt;dbl&gt; |\n",
       "|---|---|---|---|---|---|---|---|---|---|\n",
       "| chr1 | 68090 | 68140 | 1 | OR4F5 | 7.29662e-07 | 0 | 1 | 0.38 | 0.07401378 |\n",
       "| chr1 | 68140 | 68190 | 2 | OR4F5 | 5.25763e-07 | 0 | 1 | 0.38 | 0.07401378 |\n",
       "\n"
      ],
      "text/plain": [
       "  chr  start end   site_index genename mutrate     coding promoter GC_content\n",
       "1 chr1 68090 68140 1          OR4F5    7.29662e-07 0      1        0.38      \n",
       "2 chr1 68140 68190 2          OR4F5    5.25763e-07 0      1        0.38      \n",
       "  div_score \n",
       "1 0.07401378\n",
       "2 0.07401378"
      ]
     },
     "metadata": {},
     "output_type": "display_data"
    }
   ],
   "source": [
    "head(f,2)"
   ]
  },
  {
   "cell_type": "markdown",
   "metadata": {
    "kernel": "R"
   },
   "source": [
    "--sample_size\n",
    "\n",
    "A integer representing the number of individuals in the study\n",
    "\n",
    "--scale_features\n",
    "\n",
    "A vector showing the names of the features for which normalization are needed when adjusting mutation rates. \n",
    "\n",
    "--scaling_file_name\n",
    "\n",
    "A string giving the name of the output file that gives a mutation rate scaling factor for each window, which will be used in the following steps. The first three rows of an example output file is shown below. As you can see, we use `site_index` as the main identifier to link the window file and the mutation rate scaling file. "
   ]
  },
  {
   "cell_type": "code",
   "execution_count": 11,
   "metadata": {
    "kernel": "Bash"
   },
   "outputs": [
    {
     "name": "stdout",
     "output_type": "stream",
     "text": [
      "site_index\tscaling_factor\n",
      "1\t0.948531063057671\n",
      "5\t0.768557586845165\n"
     ]
    }
   ],
   "source": [
    "head -n 3 scaling_file_name"
   ]
  },
  {
   "cell_type": "code",
   "execution_count": 4,
   "metadata": {
    "kernel": "R",
    "scrolled": false
   },
   "outputs": [
    {
     "name": "stdout",
     "output_type": "stream",
     "text": [
      "[1] \"Made a tmp folder for tmp files.\"\n",
      "[1] \"Counted mutation over windows. Time consumed: 1.526s\"\n",
      "[1] \"Chose mutrate mode: regular.\"\n",
      "[1] \"Finished fiting mutation rate model and calculating scaling factors. Time consumed: 3.188s\"\n",
      "[1] \"Removed temporary files.\"\n"
     ]
    },
    {
     "data": {
      "text/html": [
       "<table class=\"dataframe\">\n",
       "<caption>A matrix: 2 × 4 of type dbl</caption>\n",
       "<thead>\n",
       "\t<tr><th></th><th scope=col>Estimate</th><th scope=col>Std. Error</th><th scope=col>z value</th><th scope=col>Pr(&gt;|z|)</th></tr>\n",
       "</thead>\n",
       "<tbody>\n",
       "\t<tr><th scope=row>(Intercept)</th><td>-0.1396165</td><td>0.02494531</td><td>-5.596903</td><td>0.00000002182153</td></tr>\n",
       "\t<tr><th scope=row>GC_content</th><td>-0.1329139</td><td>0.02360769</td><td>-5.630111</td><td>0.00000001800937</td></tr>\n",
       "</tbody>\n",
       "</table>\n"
      ],
      "text/latex": [
       "A matrix: 2 × 4 of type dbl\n",
       "\\begin{tabular}{r|llll}\n",
       "  & Estimate & Std. Error & z value & Pr(>\\textbar{}z\\textbar{})\\\\\n",
       "\\hline\n",
       "\t(Intercept) & -0.1396165 & 0.02494531 & -5.596903 & 0.00000002182153\\\\\n",
       "\tGC\\_content & -0.1329139 & 0.02360769 & -5.630111 & 0.00000001800937\\\\\n",
       "\\end{tabular}\n"
      ],
      "text/markdown": [
       "\n",
       "A matrix: 2 × 4 of type dbl\n",
       "\n",
       "| <!--/--> | Estimate | Std. Error | z value | Pr(&gt;|z|) |\n",
       "|---|---|---|---|---|\n",
       "| (Intercept) | -0.1396165 | 0.02494531 | -5.596903 | 0.00000002182153 |\n",
       "| GC_content | -0.1329139 | 0.02360769 | -5.630111 | 0.00000001800937 |\n",
       "\n"
      ],
      "text/plain": [
       "            Estimate   Std. Error z value   Pr(>|z|)        \n",
       "(Intercept) -0.1396165 0.02494531 -5.596903 0.00000002182153\n",
       "GC_content  -0.1329139 0.02360769 -5.630111 0.00000001800937"
      ]
     },
     "metadata": {},
     "output_type": "display_data"
    }
   ],
   "source": [
    "TADA_A_adjust_mutrate(\n",
    "mut_file=\"/storage11_7T/fuy/TADA-A/cell_WES/DNM/affected/no_overlp_wd/all.17428.no_overlp_wd.vep.syn.6788.bed\",\n",
    "window_file=\"/storage11_7T/fuy/TADA-A/db/MS_data/windows_partition/no_overlp.17428.gene.syn.new_mutrate.bed\",\n",
    "sample_size=6430,\n",
    "scale_features=c(\"GC_content\"),\n",
    "scaling_file_name=\"/storage11_7T/fuy/TADA-A/cell_WES/DNM/affected/t.txt\",\n",
    "mutrate_mode = \"regular\",\n",
    "genes = \"all\"\n",
    ")"
   ]
  },
  {
   "cell_type": "markdown",
   "metadata": {
    "kernel": "R"
   },
   "source": [
    "# Read in DNM data and annotation\n",
    "\n",
    "We read DNM data and annotation data using `TADA_A_read_info_by_chunks` and store all the information into `compact_data`, a compact data form benefiting from our categorization trick. This categorization trick greatly reduced the size of the data and facilitates fast parameter inference. \n",
    "\n",
    "--mut_files\n",
    "\n",
    "A vector with names of DNM files. Notice here allelic information needs to be included as our model is allele-aware. Below is an example of the first three rows of one DNM file.\n"
   ]
  },
  {
   "cell_type": "code",
   "execution_count": 12,
   "metadata": {
    "kernel": "Bash"
   },
   "outputs": [
    {
     "name": "stdout",
     "output_type": "stream",
     "text": [
      "chr10\t114910882\t114910883\tG\tA\n",
      "chr9\t14150142\t14150143\tC\tT\n",
      "chr11\t66254813\t66254814\tG\tA\n"
     ]
    }
   ],
   "source": [
    "head -n 3 mut_files"
   ]
  },
  {
   "cell_type": "markdown",
   "metadata": {
    "kernel": "R"
   },
   "source": [
    "--window_file\n",
    "\n",
    "Must be the same window file used in the mutation rate adjustion step.\n",
    "\n",
    "--mutrate_scaling_files\n",
    "\n",
    "A vector with the names of mutation rate scaling files which were generated in the mutation rate adjustion step. The ordering of these files should be consistent with that of the mutation rate files specified by `--mut_files`\n",
    "\n",
    "--sample_sizes\n",
    "\n",
    "A vector with the sample sizes of all the studies. The ordering of these numbers should be consistent with the mutation rate files specified by `--mut_files`\n",
    "\n",
    "--gene_prior_file\n",
    "\n",
    "A string representing the name of a file with the prior probability of each gene being risk gene. Below is an example of the first three rows of one prior file. \n"
   ]
  },
  {
   "cell_type": "code",
   "execution_count": 13,
   "metadata": {
    "kernel": "Bash",
    "scrolled": true
   },
   "outputs": [
    {
     "name": "stdout",
     "output_type": "stream",
     "text": [
      "genename\tprior\n",
      "A1BG\t0.05\n",
      "A1CF\t0.05\n"
     ]
    }
   ],
   "source": [
    "head -n 3 gene_prior_file"
   ]
  },
  {
   "cell_type": "markdown",
   "metadata": {
    "kernel": "Bash"
   },
   "source": [
    "--nonAS_noncoding_annotations\n",
    "\n",
    "A vector representing the names of non-allele specific annotations. All annotations should be in a 3-column BED format. Each annotation file covers all the bases (or at least all the bases included in the window file) that have that annotation.\n",
    "\n",
    "--AS_noncoding_annotations\n",
    "\n",
    "A list representing allele-specific annotations. Each element of the list is a four-element vector of the names of allele-specific annotation files for each annotation. Each allele-specific annotation file of an annotation is in 3-column BED format, covering all the bases (or at least all the bases included in the window file) that have that annotation if mutated to a certain allele. The ordering of these allele-specific annotation files for one annotation strictly follows mutant allele as \"A\", \"C\", \"G\", and \"T\".\n",
    "\n",
    "--report_proportion\n",
    "\n",
    "A number showing the proportion of genes whose DNM and annotation information will be collected and used in relative risk estimation of annotations. All the genes in the `gene_prior_file` will be ranked from high to low based on their prior probabilities. Only the top proportion based on `report_proportion` of all genes will be used. \n",
    "\n",
    "--chunk\n",
    "\n",
    "A number specifying how many partitions will the `window_file` be split into. We do partitions in order to reduce the computation burden by only handling a relatively small set of genomic regions when counting DNM and recording annotations at each base. If only look at top 1000 genes, setting `--chunk_partition_num` to 1 would be usually sufficient.\n",
    "\n",
    "--node_n\n",
    "\n",
    "The number of computational nodes that needs to be used.\n",
    "\n",
    "--mutrate_ref_files\n",
    "\n",
    "A vector specifying the names of the base-level allele-specific baseline mutation rate files. These files are in the bigWiggle format, storing base-level mutation rates for mutant allele as \"A\", \"C\", \"G\", and \"T\", sequentially. Users could use their own mutation rate models but need to build their own base-level allele-specific mutation rate files accordingly. "
   ]
  },
  {
   "cell_type": "code",
   "execution_count": 14,
   "metadata": {
    "kernel": "R",
    "scrolled": false
   },
   "outputs": [
    {
     "name": "stdout",
     "output_type": "stream",
     "text": [
      "[1] \"Made a tmp folder for tmp files.\"\n",
      "[1] \"Read in window files.\"\n",
      "[1] \"Read in mutrate scaling file /storage11_7T/fuy/TADA-A/cell_WES/DNM/affected/new_mutrate_no_overlp.1711_aff_syn_scale.txt\"\n",
      "[1] \"Read in gene prior file.\"\n",
      "[1] \"Chose the top 0.5% genes for parameter estimation.\"\n",
      "[1] \"Patitioned genomic window to base-level coordinates at Round 1. Time consumed: 1.812s.\"\n",
      "[1] \"Obtained un-calibrated base-level mutation rate for alt alleles. Time consumed: 40.274.s\"\n",
      "[1] \"Added allele specific annotations 1 .Time consumed: 9.741s.\"\n",
      "[1] \"Begin collapsing data...\"\n",
      "[1] \"Read in mutation file /storage11_7T/fuy/TADA-A/cell_WES/DNM/affected/6788snv.affected.cd.auto.no_pli_rm.allele.bed.\"\n",
      "[1] \"Collapsed data based on annotations for Study 1 .Time consumed: 4.648.s\"\n",
      "[1] \"Patitioned genomic window to base-level coordinates at Round 2. Time consumed: 1.662s.\"\n",
      "[1] \"Obtained un-calibrated base-level mutation rate for alt alleles. Time consumed: 37.566.s\"\n",
      "[1] \"Added allele specific annotations 1 .Time consumed: 8.536s.\"\n",
      "[1] \"Begin collapsing data...\"\n",
      "[1] \"Read in mutation file /storage11_7T/fuy/TADA-A/cell_WES/DNM/affected/6788snv.affected.cd.auto.no_pli_rm.allele.bed.\"\n",
      "[1] \"Collapsed data based on annotations for Study 1 .Time consumed: 4.569.s\"\n"
     ]
    },
    {
     "data": {
      "text/plain": [
       "   user  system elapsed \n",
       "146.865   7.175 109.174 "
      ]
     },
     "metadata": {},
     "output_type": "display_data"
    }
   ],
   "source": [
    "setwd(\"/storage11_7T/fuy/TADA-A/annotation\")\n",
    "\n",
    "lst0=c(\"/storage11_7T/fuy/TADA-A/annotation/PPI/uq.mg.hg19.mapped.bed\")\n",
    "\n",
    "lst=list(\n",
    "c(\n",
    "\"/storage11_7T/fuy/TADA-A/annotation/MPC_score/v2/v2.nlt2.altA.bed\",\n",
    "\"/storage11_7T/fuy/TADA-A/annotation/MPC_score/v2/v2.nlt2.altC.bed\",\n",
    "\"/storage11_7T/fuy/TADA-A/annotation/MPC_score/v2/v2.nlt2.altG.bed\",\n",
    "\"/storage11_7T/fuy/TADA-A/annotation/MPC_score/v2/v2.nlt2.altT.bed\"\n",
    "))\n",
    "\n",
    "system.time(compact_data <- TADA_A_read_info_by_chunks(\n",
    "    \n",
    "mut_files = \"/storage11_7T/fuy/TADA-A/cell_WES/DNM/affected/6788snv.affected.cd.auto.no_pli_rm.allele.bed\",\n",
    "    \n",
    "window_file = \"/storage11_7T/fuy/TADA-A/db/MS_data/windows_partition/no_overlp.17428.gene.syn.new_mutrate.bed\",\n",
    "    \n",
    "mutrate_scaling_files =\"/storage11_7T/fuy/TADA-A/cell_WES/DNM/affected/new_mutrate_no_overlp.1711_aff_syn_scale.txt\",\n",
    "   \n",
    "sample_sizes = 6430, \n",
    "    \n",
    "gene_prior_file = \"/storage11_7T/fuy/TADA-A/db/MS_data/prior/new_uniform_gene_prior.txt\",\n",
    "      \n",
    "nonAS_noncoding_annotations = NA,\n",
    "\n",
    "AS_noncoding_annotations = lst,                    \n",
    "\n",
    "report_proportion = 100/20000,\n",
    "chunk = 2,\n",
    "node_n = 1,\n",
    "\n",
    "    \n",
    "mutrate_ref_files = c(\"/storage11_7T/fuy/TADA-A/db/new_mutrate/uq.st.no_overlp.17428.gene.mutrate.A.bw\",\n",
    "                      \"/storage11_7T/fuy/TADA-A/db/new_mutrate/uq.st.no_overlp.17428.gene.mutrate.C.bw\",\n",
    "                      \"/storage11_7T/fuy/TADA-A/db/new_mutrate/uq.st.no_overlp.17428.gene.mutrate.G.bw\",\n",
    "                      \"/storage11_7T/fuy/TADA-A/db/new_mutrate/uq.st.no_overlp.17428.gene.mutrate.T.bw\")\n",
    "))\n",
    "\n",
    "saveRDS(compact_data,paste0(\"/storage11_7T/fuy/TADA-A/cell_WES/DNM/rds/\",Sys.Date(),\"test_compact.rds\"))"
   ]
  },
  {
   "cell_type": "markdown",
   "metadata": {
    "kernel": "R"
   },
   "source": [
    "# Feature selection\n",
    "Estimate the relative risks of each individual annotation supplied to `TADA_A_read_info_by_chunks`, and only use the sinificant ones for the next round of joint estimation. The code below performs relative risk estimation. We estimate the relative risk for each feature sequentially with a fixed prior.\n",
    "\n",
    "\n",
    "--data\n",
    "\n",
    "The `base_info` object returned by `TADA_A_read_info_by_chunks`, which stores DNM information, mutation rates, and annotations for each gene in a compact format. \n",
    "\n",
    "--selected_annotations\n",
    "\n",
    "A vector indicating which annotations are used in relative risk estimation. In the feature selection step, we always estimate relative risk for each feature separately, so the vector only has one number specifying which annotation will be used. As you may member, we have multiple annotations specified by `--nonAS_noncoding_annotations` and `AS_noncoding_annotations`. We numbered these annotations from 1 to the total number of annotations. For example, if we have three nonallele-specific annotations `c(\"nonAS_Annotation_1\", \"nonAS_Annotation_2\", \"nonAS_Annotation_3\")` specified by `--nonAS_noncoding_annotations`, and two allele-specific annotations `list(c(\"AS_Annotation_1_alt_A\", \"AS_Annotation_1_alt_A\", \"AS_Annotation_1_alt_A\", \"AS_Annotation_1_alt_A\"), c(\"AS_Annotation_2_alt_A\", \"AS_Annotation_2_alt_A\", \"AS_Annotation_2_alt_A\", \"AS_Annotation_2_alt_A\"))` specified by `AS_noncoding_annotations`. Then we have five annotations together, \"nonAS_Annotation_1\", \"nonAS_Annotation_2\", \"nonAS_Annotation_3\", \"AS_Annotation_1\", and \"AS_Annotation_2\" will be numbered 1, 2, 3, 4, 5, respectively. If we want to estimate the relative risk of \"nonAS_Annotation_3\", we set `--selected_annotations` to `c(3)`. If we want to jointly estimate the relative risks of \"nonAS_Annotation_3\" and \"AS_Annotation_1\", we set `--selected_annotations` to `c(3,4)`.\n",
    "\n",
    "--gene_prior_file\n",
    "\n",
    "A string representing the name of a file with the prior probability of each gene being risk gene. Below is an example of the first three rows of one prior file. In most scenarios, you want to be consistent with `TADA_A_read_info` regarding to the choice of priors.\n",
    "\n",
    " --optimization_iteration\n",
    "\n",
    "The maximum number of iterations when performing optimization. `Optim()` was used for optimization. The search space for when only one parameter is estimated is from -1 to 10.\n",
    "\n",
    "--mode \n",
    "\n",
    "A string that is `\"regular\"` (default), or `\"single_fast\"`. `\"single_fast\"` is used when estimating RR from only one annotation ( when running `TADA_A_read_info_by_chunks`, only one annotation is provided) of lots of genes (e.g., all genes), would be at least 5 times faster.\n",
    "\n",
    "[output]:\n",
    "  \n",
    "Each row of the data.frame is an annotation. Columns are log(Relative risk), 95% confidence interval lower bound of log(RR), and 95% confidence interval upper bound of log(RR)."
   ]
  },
  {
   "cell_type": "code",
   "execution_count": 25,
   "metadata": {
    "kernel": "R",
    "scrolled": true
   },
   "outputs": [
    {
     "name": "stdout",
     "output_type": "stream",
     "text": [
      "[1] \"Read in gene prior file. Time consumed: 0.029s.\"\n",
      "[1] \"Finished parameter estimation!\"\n"
     ]
    },
    {
     "data": {
      "text/html": [
       "<table class=\"dataframe\">\n",
       "<caption>A data.frame: 1 × 3</caption>\n",
       "<thead>\n",
       "\t<tr><th scope=col>par_estimate</th><th scope=col>lower</th><th scope=col>upper</th></tr>\n",
       "\t<tr><th scope=col>&lt;dbl&gt;</th><th scope=col>&lt;dbl&gt;</th><th scope=col>&lt;dbl&gt;</th></tr>\n",
       "</thead>\n",
       "<tbody>\n",
       "\t<tr><td>2.338677</td><td>1.803951</td><td>2.873403</td></tr>\n",
       "</tbody>\n",
       "</table>\n"
      ],
      "text/latex": [
       "A data.frame: 1 × 3\n",
       "\\begin{tabular}{lll}\n",
       " par\\_estimate & lower & upper\\\\\n",
       " <dbl> & <dbl> & <dbl>\\\\\n",
       "\\hline\n",
       "\t 2.338677 & 1.803951 & 2.873403\\\\\n",
       "\\end{tabular}\n"
      ],
      "text/markdown": [
       "\n",
       "A data.frame: 1 × 3\n",
       "\n",
       "| par_estimate &lt;dbl&gt; | lower &lt;dbl&gt; | upper &lt;dbl&gt; |\n",
       "|---|---|---|\n",
       "| 2.338677 | 1.803951 | 2.873403 |\n",
       "\n"
      ],
      "text/plain": [
       "  par_estimate lower    upper   \n",
       "1 2.338677     1.803951 2.873403"
      ]
     },
     "metadata": {},
     "output_type": "display_data"
    }
   ],
   "source": [
    "selected_annotations=c(1)\n",
    "df=c()\n",
    "# for(i in selected_annotations){\n",
    "df2=TADA_A_RR_estimate(data=data$base_info, selected_annotations=i, \n",
    "                   gene_prior_file=\"/storage11_7T/fuy/TADA-A/db/MS_data/prior/new_uniform_gene_prior.txt\",\n",
    "                   optimization_iteration = 2000, mode = \"regular\",hessian=TRUE)\n",
    "df=rbind(df,df2)\n",
    "#     }\n",
    "# df$annota=paste0(\"selected annota\",c(1))\n",
    "df"
   ]
  },
  {
   "cell_type": "markdown",
   "metadata": {
    "kernel": "R"
   },
   "source": [
    "# Jointly estimating the relative risks of annotations\n",
    "We perform joint estimation for annotations that pass the feature selection step. Example code is shown below. We set `--selected_annotations` to be `c(1,5,8)` as the 1st, 5th and 8th annotations passed the feature selection. \n"
   ]
  },
  {
   "cell_type": "code",
   "execution_count": null,
   "metadata": {
    "kernel": "R"
   },
   "outputs": [],
   "source": [
    "TADA_A_RR_estimate(data=data$base_info, selected_annotations=c(1,5,8), \n",
    "                   gene_prior_file=\"/storage11_7T/fuy/TADA-A/db/MS_data/prior/new_uniform_gene_prior.txt\",\n",
    "                   optimization_iteration = 2000, mode = \"regular\",hessian=TRUE)"
   ]
  },
  {
   "cell_type": "markdown",
   "metadata": {
    "kernel": "R"
   },
   "source": [
    "# Predict risk genes using SNVs\n",
    "\n",
    "Use the relative risks of annotations from the last step to identify risk genes. The example code is below. Notice, if previously in relative risk estimation, we only used top genes (e.g., top 1000 genes based on priors), then `compact_data$base_info`, would only contain information for these top 1000 genes. To predict risk genes for all potential genes, we need to first run `TADA_A_read_info_by_chunks` again over all the genes in the `window_file`. \n",
    "\n",
    "The difference compared to Step 4 is that 1) now we only take in annotations that have passed the feature selection when running `TADA_A_read_info`; 2) set `--report_proportion` to 1 so all genes in the `window_file` would be included; 3) set `--chunk` to a bigger number such as `20` to avoid memory overflow issue, which would arise when each chunk has to cover too many genomic positions. \n",
    "\n",
    "--gama\n",
    "\n",
    "The `par_estimate` in the last step. We specify the relative risks in the log scale to `gama` for the selected annotations sequentially in a vector. \n",
    "\n",
    "**[output]**\n",
    "\n",
    "List of FDR < 0.1 and FDR_all. `q0` is the posterior probability. We adjusted `q0` using FDR."
   ]
  },
  {
   "cell_type": "code",
   "execution_count": 27,
   "metadata": {
    "kernel": "R",
    "scrolled": false
   },
   "outputs": [
    {
     "data": {
      "text/html": [
       "<style>\n",
       ".list-inline {list-style: none; margin:0; padding: 0}\n",
       ".list-inline>li {display: inline-block}\n",
       ".list-inline>li:not(:last-child)::after {content: \"\\00b7\"; padding: 0 .5ex}\n",
       "</style>\n",
       "<ol class=list-inline><li>'FDR_ls_0.1'</li><li>'FDR_all'</li></ol>\n"
      ],
      "text/latex": [
       "\\begin{enumerate*}\n",
       "\\item 'FDR\\_ls\\_0.1'\n",
       "\\item 'FDR\\_all'\n",
       "\\end{enumerate*}\n"
      ],
      "text/markdown": [
       "1. 'FDR_ls_0.1'\n",
       "2. 'FDR_all'\n",
       "\n",
       "\n"
      ],
      "text/plain": [
       "[1] \"FDR_ls_0.1\" \"FDR_all\"   "
      ]
     },
     "metadata": {},
     "output_type": "display_data"
    },
    {
     "data": {
      "text/html": [
       "<table class=\"dataframe\">\n",
       "<caption>A data.table: 1 × 4</caption>\n",
       "<thead>\n",
       "\t<tr><th scope=col>genename</th><th scope=col>prior</th><th scope=col>q0</th><th scope=col>FDR</th></tr>\n",
       "\t<tr><th scope=col>&lt;chr&gt;</th><th scope=col>&lt;dbl&gt;</th><th scope=col>&lt;dbl&gt;</th><th scope=col>&lt;dbl&gt;</th></tr>\n",
       "</thead>\n",
       "<tbody>\n",
       "\t<tr><td>FAM214A</td><td>0.9482649</td><td>0.05173513</td><td>0.05173513</td></tr>\n",
       "</tbody>\n",
       "</table>\n"
      ],
      "text/latex": [
       "A data.table: 1 × 4\n",
       "\\begin{tabular}{llll}\n",
       " genename & prior & q0 & FDR\\\\\n",
       " <chr> & <dbl> & <dbl> & <dbl>\\\\\n",
       "\\hline\n",
       "\t FAM214A & 0.9482649 & 0.05173513 & 0.05173513\\\\\n",
       "\\end{tabular}\n"
      ],
      "text/markdown": [
       "\n",
       "A data.table: 1 × 4\n",
       "\n",
       "| genename &lt;chr&gt; | prior &lt;dbl&gt; | q0 &lt;dbl&gt; | FDR &lt;dbl&gt; |\n",
       "|---|---|---|---|\n",
       "| FAM214A | 0.9482649 | 0.05173513 | 0.05173513 |\n",
       "\n"
      ],
      "text/plain": [
       "  genename prior     q0         FDR       \n",
       "1 FAM214A  0.9482649 0.05173513 0.05173513"
      ]
     },
     "metadata": {},
     "output_type": "display_data"
    }
   ],
   "source": [
    "library(eTADA)\n",
    "data=readRDS(paste0(\"/storage11_7T/fuy/TADA-A/cell_WES/DNM/rds/2022-02-08_new_mutrate_no_overlp_mpc01_520syn_unaff_uni_prior_compact.rds\"))\n",
    "\n",
    "res=TADA_A_get_FDR_SNVs(data=data$base_info,gama=c(2.36,0.1,0.048),\n",
    "                    selected_annotations=c(1,2),\n",
    "                    gene_prior_file = \"/storage11_7T/fuy/TADA-A/db/MS_data/prior/new_uniform_gene_prior.txt\",\n",
    "                    optimization_iteration=2000)\n",
    "names(res)\n",
    "res$FDR_ls_0.1"
   ]
  },
  {
   "cell_type": "markdown",
   "metadata": {
    "kernel": "R"
   },
   "source": [
    "# Estimate frameshift indels mutation rates\n",
    "\n",
    "-- window_file \n",
    "\n",
    "The file with genomic windows. Each line represents one window. The first 4 columns must be chr, start, end, and site_index of genomic windows. The rest of the columns are features that might affect baseline background mutation rates and that need to be adjusted for.\n",
    "\n",
    "\n",
    "--scaling_file_name \n",
    "\n",
    "The name of the file that has the scaling factor for each genomic interval in [window_file]. 1st column is site_index, 2nd column is scaling factor of mutation rate.\n",
    "\n",
    "--sample_size \n",
    "\n",
    "The number of individuals.\n",
    "\n",
    "\n",
    "--Frameshift_Inframe_ratio \n",
    "\n",
    "The ratio of the number of frameshift indels within windows to the number of inframe indels within windows.\n",
    "\n",
    "\n",
    "--inframe_coverage_file \n",
    "\n",
    "Generated by `bedtools coverage -a window_file -b inframe.allele.bed | cut -f 1-13`\n",
    "\n",
    "\n",
    "--frameshift_coverage_file \n",
    "\n",
    "Generated by `bedtools coverage -a window_file -b frameshift.allele.bed | cut -f 1-13`\n",
    "\n",
    "\n",
    "--pp_file_SNV \n",
    "\n",
    "The result of TADA_A_get_FDR_SNVs.R. Posterior Probabilities of all genes after considering all SNV annotations."
   ]
  },
  {
   "cell_type": "code",
   "execution_count": 2,
   "metadata": {
    "kernel": "R",
    "scrolled": false
   },
   "outputs": [
    {
     "name": "stdout",
     "output_type": "stream",
     "text": [
      "[1] \"The number of inframe shift indels is 125\"\n",
      "\n",
      "Call:\n",
      "glm(formula = infram_count ~ calib_mutrate_2N, family = poisson(link = \"log\"), \n",
      "    data = df4)\n",
      "\n",
      "Deviance Residuals: \n",
      "    Min       1Q   Median       3Q      Max  \n",
      "-1.7862  -0.0363  -0.0357  -0.0352   5.3303  \n",
      "\n",
      "Coefficients:\n",
      "                 Estimate Std. Error z value Pr(>|z|)    \n",
      "(Intercept)      -7.32522    0.09158  -79.99   <2e-16 ***\n",
      "calib_mutrate_2N  0.16009    0.01086   14.74   <2e-16 ***\n",
      "---\n",
      "Signif. codes:  0 ‘***’ 0.001 ‘**’ 0.01 ‘*’ 0.05 ‘.’ 0.1 ‘ ’ 1\n",
      "\n",
      "(Dispersion parameter for poisson family taken to be 1)\n",
      "\n",
      "    Null deviance: 1830  on 179795  degrees of freedom\n",
      "Residual deviance: 1771  on 179794  degrees of freedom\n",
      "AIC: 2019.2\n",
      "\n",
      "Number of Fisher Scoring iterations: 9\n",
      "\n"
     ]
    }
   ],
   "source": [
    "setwd(\"/storage11_7T/fuy/TADA-A/cell_WES/DNM/affected/indel\")\n",
    "library(eTADA)\n",
    "Frameshift_rate(window_file=\"/storage11_7T/fuy/TADA-A/db/MS_data/windows_partition/no_overlp.17428.gene.syn.new_mutrate.bed\",\n",
    "                scaling_file_name=\"/storage11_7T/fuy/TADA-A/cell_WES/DNM/affected/new_mutrate_no_overlp.1711_aff_syn_scale.txt\",\n",
    "                inframe_coverage_file=\"1base.125inframe.bed.coverage.in_1711aff_syn_scale_17428_wd\",\n",
    "                frameshift_coverage_file=\"1base.458frameshift.allele.bed.coverage.in_1711aff_syn_scale_17428_wd\",      \n",
    "                sample_size=6430,\n",
    "                Frameshift_Inframe_ratio=3.5,\n",
    "                pp_file_SNV=\"/storage11_7T/fuy/TADA-A/cell_WES/DNM/res/2022-03-10_ASD-df22-estim-pi-all-gene.txt\",\n",
    "                output_file=\"test.txt\")"
   ]
  },
  {
   "cell_type": "code",
   "execution_count": 4,
   "metadata": {
    "kernel": "Bash"
   },
   "outputs": [
    {
     "name": "stdout",
     "output_type": "stream",
     "text": [
      "genename\tprior\tfs_rate_sum\tfs_count\n",
      "A1BG\t0.104893836829155\t1.35684101625564e-06\t0\n",
      "A1CF\t0.103535217290444\t2.10221536041985e-06\t0\n"
     ]
    }
   ],
   "source": [
    "head -n 3 /storage11_7T/fuy/TADA-A/cell_WES/DNM/affected/indel/test.txt"
   ]
  },
  {
   "cell_type": "markdown",
   "metadata": {
    "kernel": "R"
   },
   "source": [
    "# Predict risk genes after considering INDELs\n",
    "\n",
    "--gama\n",
    "\n",
    "Initial value of frameshift log(relative risk).\n",
    "\n",
    "**[output]**\n",
    "\n",
    "List of frameshift log(relative risk), genelist of FDR < 0.1, and genelist of FDR_all. `q0` is the posterior probability. We adjusted `q0` using FDR."
   ]
  },
  {
   "cell_type": "code",
   "execution_count": 6,
   "metadata": {
    "kernel": "R"
   },
   "outputs": [
    {
     "data": {
      "text/html": [
       "<style>\n",
       ".list-inline {list-style: none; margin:0; padding: 0}\n",
       ".list-inline>li {display: inline-block}\n",
       ".list-inline>li:not(:last-child)::after {content: \"\\00b7\"; padding: 0 .5ex}\n",
       "</style>\n",
       "<ol class=list-inline><li>'log_frameshift_rr'</li><li>'FDR_ls_0.1'</li><li>'FDR_all'</li></ol>\n"
      ],
      "text/latex": [
       "\\begin{enumerate*}\n",
       "\\item 'log\\_frameshift\\_rr'\n",
       "\\item 'FDR\\_ls\\_0.1'\n",
       "\\item 'FDR\\_all'\n",
       "\\end{enumerate*}\n"
      ],
      "text/markdown": [
       "1. 'log_frameshift_rr'\n",
       "2. 'FDR_ls_0.1'\n",
       "3. 'FDR_all'\n",
       "\n",
       "\n"
      ],
      "text/plain": [
       "[1] \"log_frameshift_rr\" \"FDR_ls_0.1\"        \"FDR_all\"          "
      ]
     },
     "metadata": {},
     "output_type": "display_data"
    },
    {
     "data": {
      "text/html": [
       "1.46378599105981"
      ],
      "text/latex": [
       "1.46378599105981"
      ],
      "text/markdown": [
       "1.46378599105981"
      ],
      "text/plain": [
       "[1] 1.463786"
      ]
     },
     "metadata": {},
     "output_type": "display_data"
    },
    {
     "data": {
      "text/html": [
       "<table class=\"dataframe\">\n",
       "<caption>A data.table: 2 × 7</caption>\n",
       "<thead>\n",
       "\t<tr><th scope=col>genename</th><th scope=col>prior</th><th scope=col>fs_rate_sum</th><th scope=col>fs_count</th><th scope=col>post</th><th scope=col>q0</th><th scope=col>FDR</th></tr>\n",
       "\t<tr><th scope=col>&lt;chr&gt;</th><th scope=col>&lt;dbl&gt;</th><th scope=col>&lt;dbl&gt;</th><th scope=col>&lt;int&gt;</th><th scope=col>&lt;dbl&gt;</th><th scope=col>&lt;dbl&gt;</th><th scope=col>&lt;dbl&gt;</th></tr>\n",
       "</thead>\n",
       "<tbody>\n",
       "\t<tr><td>SCN2A</td><td>1.0000000</td><td>4.769147e-06</td><td>3</td><td>1</td><td>2.220446e-16</td><td>2.220446e-16</td></tr>\n",
       "\t<tr><td>CHD8 </td><td>0.9999984</td><td>6.441148e-06</td><td>4</td><td>1</td><td>5.968040e-09</td><td>2.984020e-09</td></tr>\n",
       "</tbody>\n",
       "</table>\n"
      ],
      "text/latex": [
       "A data.table: 2 × 7\n",
       "\\begin{tabular}{lllllll}\n",
       " genename & prior & fs\\_rate\\_sum & fs\\_count & post & q0 & FDR\\\\\n",
       " <chr> & <dbl> & <dbl> & <int> & <dbl> & <dbl> & <dbl>\\\\\n",
       "\\hline\n",
       "\t SCN2A & 1.0000000 & 4.769147e-06 & 3 & 1 & 2.220446e-16 & 2.220446e-16\\\\\n",
       "\t CHD8  & 0.9999984 & 6.441148e-06 & 4 & 1 & 5.968040e-09 & 2.984020e-09\\\\\n",
       "\\end{tabular}\n"
      ],
      "text/markdown": [
       "\n",
       "A data.table: 2 × 7\n",
       "\n",
       "| genename &lt;chr&gt; | prior &lt;dbl&gt; | fs_rate_sum &lt;dbl&gt; | fs_count &lt;int&gt; | post &lt;dbl&gt; | q0 &lt;dbl&gt; | FDR &lt;dbl&gt; |\n",
       "|---|---|---|---|---|---|---|\n",
       "| SCN2A | 1.0000000 | 4.769147e-06 | 3 | 1 | 2.220446e-16 | 2.220446e-16 |\n",
       "| CHD8  | 0.9999984 | 6.441148e-06 | 4 | 1 | 5.968040e-09 | 2.984020e-09 |\n",
       "\n"
      ],
      "text/plain": [
       "  genename prior     fs_rate_sum  fs_count post q0           FDR         \n",
       "1 SCN2A    1.0000000 4.769147e-06 3        1    2.220446e-16 2.220446e-16\n",
       "2 CHD8     0.9999984 6.441148e-06 4        1    5.968040e-09 2.984020e-09"
      ]
     },
     "metadata": {},
     "output_type": "display_data"
    }
   ],
   "source": [
    "df=TADA_A_get_FDR_INDELs(gama=30,sample_size=1000,frameshift_rate_file=\"test.txt\")\n",
    "names(df)\n",
    "df$log_frameshift_rr\n",
    "head(df$FDR_ls_0.1,2)"
   ]
  }
 ],
 "metadata": {
  "kernelspec": {
   "display_name": "SoS",
   "language": "sos",
   "name": "sos"
  },
  "language_info": {
   "codemirror_mode": "sos",
   "file_extension": ".sos",
   "mimetype": "text/x-sos",
   "name": "sos",
   "nbconvert_exporter": "sos_notebook.converter.SoS_Exporter",
   "pygments_lexer": "sos"
  },
  "sos": {
   "kernels": [
    [
     "Bash",
     "bash",
     "Bash",
     "#E6EEFF",
     "shell"
    ],
    [
     "R",
     "ir",
     "R",
     "",
     "r"
    ]
   ],
   "panel": {
    "displayed": false,
    "height": 0
   },
   "version": "0.21.7"
  },
  "toc": {
   "base_numbering": 1,
   "nav_menu": {},
   "number_sections": true,
   "sideBar": true,
   "skip_h1_title": false,
   "title_cell": "Table of Contents",
   "title_sidebar": "Contents",
   "toc_cell": false,
   "toc_position": {},
   "toc_section_display": true,
   "toc_window_display": false
  }
 },
 "nbformat": 4,
 "nbformat_minor": 4
}
